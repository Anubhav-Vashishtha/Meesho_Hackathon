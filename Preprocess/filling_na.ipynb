{
 "cells": [
  {
   "cell_type": "code",
   "execution_count": null,
   "metadata": {},
   "outputs": [],
   "source": [
    "import pandas as pd\n",
    "import os\n"
   ]
  },
  {
   "cell_type": "code",
   "execution_count": 6,
   "metadata": {},
   "outputs": [],
   "source": [
    "train = pd.read_csv('./../train.csv')"
   ]
  },
  {
   "cell_type": "code",
   "execution_count": 4,
   "metadata": {},
   "outputs": [],
   "source": [
    "columns = ['Men Tshirts', 'Sarees', 'Kurtis', 'Women Tshirts',\n",
    "       'Women Tops & Tunics']"
   ]
  },
  {
   "cell_type": "code",
   "execution_count": 38,
   "metadata": {},
   "outputs": [],
   "source": [
    "def get_csv_files(folder_name):\n",
    "    try:\n",
    "        files = os.listdir(folder_name)\n",
    "        csv_files = [file for file in files if file.endswith('.csv')]\n",
    "        return csv_files\n",
    "    except FileNotFoundError:\n",
    "        return f\"Folder '{folder_name}' not found.\"\n",
    "    except Exception as e:\n",
    "        return f\"An error occurred: {e}\""
   ]
  },
  {
   "cell_type": "code",
   "execution_count": 39,
   "metadata": {},
   "outputs": [],
   "source": [
    "def fill_na(df, columns):\n",
    "    for i in columns:\n",
    "        feature = get_csv_files(i)\n",
    "        for feat in feature:\n",
    "            content = pd.read_csv(f'./{i}/{feat}')\n",
    "            feat_real = feat.split('.')[0]  \n",
    "            \n",
    "            if feat_real not in df.columns:\n",
    "                print(f\"Column '{feat_real}' not found in DataFrame. Skipping.\")\n",
    "                continue\n",
    "            \n",
    "            for _, row in content.iterrows():\n",
    "                df.loc[df['id'] == row['id'], feat_real] = row['label']\n",
    "    \n",
    "    return df"
   ]
  },
  {
   "cell_type": "code",
   "execution_count": 40,
   "metadata": {},
   "outputs": [],
   "source": [
    "train = fill_na(train , columns)"
   ]
  },
  {
   "cell_type": "code",
   "execution_count": 41,
   "metadata": {},
   "outputs": [],
   "source": [
    "train.fillna('no attr', inplace=True)"
   ]
  },
  {
   "cell_type": "code",
   "execution_count": 42,
   "metadata": {},
   "outputs": [
    {
     "data": {
      "text/plain": [
       "id            0\n",
       "Category      0\n",
       "len           0\n",
       "attr_1        0\n",
       "attr_2        0\n",
       "attr_3        0\n",
       "attr_4        0\n",
       "attr_5        0\n",
       "attr_6        0\n",
       "attr_7        0\n",
       "attr_8        0\n",
       "attr_9        0\n",
       "attr_10       0\n",
       "image_path    0\n",
       "dtype: int64"
      ]
     },
     "execution_count": 42,
     "metadata": {},
     "output_type": "execute_result"
    }
   ],
   "source": [
    "train.isna().sum()"
   ]
  },
  {
   "cell_type": "code",
   "execution_count": 43,
   "metadata": {},
   "outputs": [],
   "source": [
    "train.to_csv('./../train_without_na.csv', index=False)"
   ]
  },
  {
   "cell_type": "code",
   "execution_count": null,
   "metadata": {},
   "outputs": [],
   "source": []
  }
 ],
 "metadata": {
  "kernelspec": {
   "display_name": "Python 3",
   "language": "python",
   "name": "python3"
  },
  "language_info": {
   "codemirror_mode": {
    "name": "ipython",
    "version": 3
   },
   "file_extension": ".py",
   "mimetype": "text/x-python",
   "name": "python",
   "nbconvert_exporter": "python",
   "pygments_lexer": "ipython3",
   "version": "3.12.8"
  }
 },
 "nbformat": 4,
 "nbformat_minor": 2
}
