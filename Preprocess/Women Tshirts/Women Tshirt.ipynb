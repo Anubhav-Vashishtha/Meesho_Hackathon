{
 "cells": [
  {
   "cell_type": "code",
   "execution_count": 56,
   "metadata": {
    "execution": {
     "iopub.execute_input": "2024-12-04T11:54:56.977466Z",
     "iopub.status.busy": "2024-12-04T11:54:56.976539Z",
     "iopub.status.idle": "2024-12-04T11:54:56.982038Z",
     "shell.execute_reply": "2024-12-04T11:54:56.981183Z",
     "shell.execute_reply.started": "2024-12-04T11:54:56.977429Z"
    },
    "trusted": true
   },
   "outputs": [],
   "source": [
    "import pandas as pd\n",
    "import numpy as np\n",
    "\n",
    "from sklearn.preprocessing import LabelEncoder\n",
    "\n",
    "import tensorflow as tf\n",
    "from tensorflow.keras import layers\n",
    "from tensorflow.keras.applications import ResNet50\n",
    "from tensorflow.keras.models import Sequential\n",
    "from tensorflow.keras.layers import Dense, Flatten, GlobalAveragePooling2D\n",
    "from tensorflow.keras.utils import to_categorical\n",
    "\n",
    "from PIL import Image"
   ]
  },
  {
   "cell_type": "code",
   "execution_count": 57,
   "metadata": {
    "execution": {
     "iopub.execute_input": "2024-12-04T11:54:56.984378Z",
     "iopub.status.busy": "2024-12-04T11:54:56.983609Z",
     "iopub.status.idle": "2024-12-04T11:54:57.142450Z",
     "shell.execute_reply": "2024-12-04T11:54:57.141692Z",
     "shell.execute_reply.started": "2024-12-04T11:54:56.984350Z"
    },
    "trusted": true
   },
   "outputs": [],
   "source": [
    "df = pd.read_csv('/kaggle/input/train-with-paths/train.csv')"
   ]
  },
  {
   "cell_type": "code",
   "execution_count": null,
   "metadata": {},
   "outputs": [],
   "source": [
    "category = 'Women Tshirts'"
   ]
  },
  {
   "cell_type": "code",
   "execution_count": null,
   "metadata": {
    "execution": {
     "iopub.execute_input": "2024-12-04T11:54:57.143791Z",
     "iopub.status.busy": "2024-12-04T11:54:57.143516Z",
     "iopub.status.idle": "2024-12-04T11:54:57.156725Z",
     "shell.execute_reply": "2024-12-04T11:54:57.155955Z",
     "shell.execute_reply.started": "2024-12-04T11:54:57.143766Z"
    },
    "trusted": true
   },
   "outputs": [],
   "source": [
    "df = df[df['Category'] == category]"
   ]
  },
  {
   "cell_type": "code",
   "execution_count": 59,
   "metadata": {
    "execution": {
     "iopub.execute_input": "2024-12-04T11:54:57.158632Z",
     "iopub.status.busy": "2024-12-04T11:54:57.158383Z",
     "iopub.status.idle": "2024-12-04T11:54:57.203760Z",
     "shell.execute_reply": "2024-12-04T11:54:57.203180Z",
     "shell.execute_reply.started": "2024-12-04T11:54:57.158608Z"
    },
    "trusted": true
   },
   "outputs": [],
   "source": [
    "# For Kaggle\n",
    "\n",
    "df['image_path'] = df.apply(lambda x: '/kaggle/input/visual-taxonomy/train_images/' + x['image_path'].split('/')[-1], axis=1)"
   ]
  },
  {
   "cell_type": "code",
   "execution_count": 60,
   "metadata": {
    "execution": {
     "iopub.execute_input": "2024-12-04T11:54:57.204806Z",
     "iopub.status.busy": "2024-12-04T11:54:57.204597Z",
     "iopub.status.idle": "2024-12-04T11:54:57.217623Z",
     "shell.execute_reply": "2024-12-04T11:54:57.216790Z",
     "shell.execute_reply.started": "2024-12-04T11:54:57.204784Z"
    },
    "trusted": true
   },
   "outputs": [
    {
     "data": {
      "text/html": [
       "<div>\n",
       "<style scoped>\n",
       "    .dataframe tbody tr th:only-of-type {\n",
       "        vertical-align: middle;\n",
       "    }\n",
       "\n",
       "    .dataframe tbody tr th {\n",
       "        vertical-align: top;\n",
       "    }\n",
       "\n",
       "    .dataframe thead th {\n",
       "        text-align: right;\n",
       "    }\n",
       "</style>\n",
       "<table border=\"1\" class=\"dataframe\">\n",
       "  <thead>\n",
       "    <tr style=\"text-align: right;\">\n",
       "      <th></th>\n",
       "      <th>id</th>\n",
       "      <th>Category</th>\n",
       "      <th>len</th>\n",
       "      <th>attr_1</th>\n",
       "      <th>attr_2</th>\n",
       "      <th>attr_3</th>\n",
       "      <th>attr_4</th>\n",
       "      <th>attr_5</th>\n",
       "      <th>attr_6</th>\n",
       "      <th>attr_7</th>\n",
       "      <th>attr_8</th>\n",
       "      <th>attr_9</th>\n",
       "      <th>attr_10</th>\n",
       "      <th>image_path</th>\n",
       "    </tr>\n",
       "  </thead>\n",
       "  <tbody>\n",
       "    <tr>\n",
       "      <th>0</th>\n",
       "      <td>0</td>\n",
       "      <td>Men Tshirts</td>\n",
       "      <td>5</td>\n",
       "      <td>default</td>\n",
       "      <td>round</td>\n",
       "      <td>printed</td>\n",
       "      <td>default</td>\n",
       "      <td>short sleeves</td>\n",
       "      <td>NaN</td>\n",
       "      <td>NaN</td>\n",
       "      <td>NaN</td>\n",
       "      <td>NaN</td>\n",
       "      <td>NaN</td>\n",
       "      <td>/kaggle/input/visual-taxonomy/train_images/000...</td>\n",
       "    </tr>\n",
       "    <tr>\n",
       "      <th>1</th>\n",
       "      <td>1</td>\n",
       "      <td>Men Tshirts</td>\n",
       "      <td>5</td>\n",
       "      <td>multicolor</td>\n",
       "      <td>polo</td>\n",
       "      <td>solid</td>\n",
       "      <td>solid</td>\n",
       "      <td>short sleeves</td>\n",
       "      <td>NaN</td>\n",
       "      <td>NaN</td>\n",
       "      <td>NaN</td>\n",
       "      <td>NaN</td>\n",
       "      <td>NaN</td>\n",
       "      <td>/kaggle/input/visual-taxonomy/train_images/000...</td>\n",
       "    </tr>\n",
       "    <tr>\n",
       "      <th>2</th>\n",
       "      <td>2</td>\n",
       "      <td>Men Tshirts</td>\n",
       "      <td>5</td>\n",
       "      <td>default</td>\n",
       "      <td>polo</td>\n",
       "      <td>solid</td>\n",
       "      <td>solid</td>\n",
       "      <td>short sleeves</td>\n",
       "      <td>NaN</td>\n",
       "      <td>NaN</td>\n",
       "      <td>NaN</td>\n",
       "      <td>NaN</td>\n",
       "      <td>NaN</td>\n",
       "      <td>/kaggle/input/visual-taxonomy/train_images/000...</td>\n",
       "    </tr>\n",
       "    <tr>\n",
       "      <th>3</th>\n",
       "      <td>3</td>\n",
       "      <td>Men Tshirts</td>\n",
       "      <td>5</td>\n",
       "      <td>multicolor</td>\n",
       "      <td>polo</td>\n",
       "      <td>solid</td>\n",
       "      <td>solid</td>\n",
       "      <td>short sleeves</td>\n",
       "      <td>NaN</td>\n",
       "      <td>NaN</td>\n",
       "      <td>NaN</td>\n",
       "      <td>NaN</td>\n",
       "      <td>NaN</td>\n",
       "      <td>/kaggle/input/visual-taxonomy/train_images/000...</td>\n",
       "    </tr>\n",
       "    <tr>\n",
       "      <th>4</th>\n",
       "      <td>4</td>\n",
       "      <td>Men Tshirts</td>\n",
       "      <td>5</td>\n",
       "      <td>multicolor</td>\n",
       "      <td>polo</td>\n",
       "      <td>solid</td>\n",
       "      <td>solid</td>\n",
       "      <td>short sleeves</td>\n",
       "      <td>NaN</td>\n",
       "      <td>NaN</td>\n",
       "      <td>NaN</td>\n",
       "      <td>NaN</td>\n",
       "      <td>NaN</td>\n",
       "      <td>/kaggle/input/visual-taxonomy/train_images/000...</td>\n",
       "    </tr>\n",
       "  </tbody>\n",
       "</table>\n",
       "</div>"
      ],
      "text/plain": [
       "   id     Category  len      attr_1 attr_2   attr_3   attr_4         attr_5  \\\n",
       "0   0  Men Tshirts    5     default  round  printed  default  short sleeves   \n",
       "1   1  Men Tshirts    5  multicolor   polo    solid    solid  short sleeves   \n",
       "2   2  Men Tshirts    5     default   polo    solid    solid  short sleeves   \n",
       "3   3  Men Tshirts    5  multicolor   polo    solid    solid  short sleeves   \n",
       "4   4  Men Tshirts    5  multicolor   polo    solid    solid  short sleeves   \n",
       "\n",
       "  attr_6 attr_7 attr_8 attr_9 attr_10  \\\n",
       "0    NaN    NaN    NaN    NaN     NaN   \n",
       "1    NaN    NaN    NaN    NaN     NaN   \n",
       "2    NaN    NaN    NaN    NaN     NaN   \n",
       "3    NaN    NaN    NaN    NaN     NaN   \n",
       "4    NaN    NaN    NaN    NaN     NaN   \n",
       "\n",
       "                                          image_path  \n",
       "0  /kaggle/input/visual-taxonomy/train_images/000...  \n",
       "1  /kaggle/input/visual-taxonomy/train_images/000...  \n",
       "2  /kaggle/input/visual-taxonomy/train_images/000...  \n",
       "3  /kaggle/input/visual-taxonomy/train_images/000...  \n",
       "4  /kaggle/input/visual-taxonomy/train_images/000...  "
      ]
     },
     "execution_count": 60,
     "metadata": {},
     "output_type": "execute_result"
    }
   ],
   "source": [
    "df.head()\n"
   ]
  },
  {
   "cell_type": "code",
   "execution_count": 61,
   "metadata": {
    "execution": {
     "iopub.execute_input": "2024-12-04T11:54:57.219015Z",
     "iopub.status.busy": "2024-12-04T11:54:57.218726Z",
     "iopub.status.idle": "2024-12-04T11:54:57.230153Z",
     "shell.execute_reply": "2024-12-04T11:54:57.229461Z",
     "shell.execute_reply.started": "2024-12-04T11:54:57.218988Z"
    },
    "trusted": true
   },
   "outputs": [],
   "source": [
    "df.dropna(axis=1, how='all' , inplace=True)"
   ]
  },
  {
   "cell_type": "code",
   "execution_count": 62,
   "metadata": {
    "execution": {
     "iopub.execute_input": "2024-12-04T11:54:57.231373Z",
     "iopub.status.busy": "2024-12-04T11:54:57.231041Z",
     "iopub.status.idle": "2024-12-04T11:54:57.245598Z",
     "shell.execute_reply": "2024-12-04T11:54:57.244887Z",
     "shell.execute_reply.started": "2024-12-04T11:54:57.231347Z"
    },
    "trusted": true
   },
   "outputs": [
    {
     "data": {
      "text/html": [
       "<div>\n",
       "<style scoped>\n",
       "    .dataframe tbody tr th:only-of-type {\n",
       "        vertical-align: middle;\n",
       "    }\n",
       "\n",
       "    .dataframe tbody tr th {\n",
       "        vertical-align: top;\n",
       "    }\n",
       "\n",
       "    .dataframe thead th {\n",
       "        text-align: right;\n",
       "    }\n",
       "</style>\n",
       "<table border=\"1\" class=\"dataframe\">\n",
       "  <thead>\n",
       "    <tr style=\"text-align: right;\">\n",
       "      <th></th>\n",
       "      <th>id</th>\n",
       "      <th>Category</th>\n",
       "      <th>len</th>\n",
       "      <th>attr_1</th>\n",
       "      <th>attr_2</th>\n",
       "      <th>attr_3</th>\n",
       "      <th>attr_4</th>\n",
       "      <th>attr_5</th>\n",
       "      <th>image_path</th>\n",
       "    </tr>\n",
       "  </thead>\n",
       "  <tbody>\n",
       "    <tr>\n",
       "      <th>0</th>\n",
       "      <td>0</td>\n",
       "      <td>Men Tshirts</td>\n",
       "      <td>5</td>\n",
       "      <td>default</td>\n",
       "      <td>round</td>\n",
       "      <td>printed</td>\n",
       "      <td>default</td>\n",
       "      <td>short sleeves</td>\n",
       "      <td>/kaggle/input/visual-taxonomy/train_images/000...</td>\n",
       "    </tr>\n",
       "    <tr>\n",
       "      <th>1</th>\n",
       "      <td>1</td>\n",
       "      <td>Men Tshirts</td>\n",
       "      <td>5</td>\n",
       "      <td>multicolor</td>\n",
       "      <td>polo</td>\n",
       "      <td>solid</td>\n",
       "      <td>solid</td>\n",
       "      <td>short sleeves</td>\n",
       "      <td>/kaggle/input/visual-taxonomy/train_images/000...</td>\n",
       "    </tr>\n",
       "    <tr>\n",
       "      <th>2</th>\n",
       "      <td>2</td>\n",
       "      <td>Men Tshirts</td>\n",
       "      <td>5</td>\n",
       "      <td>default</td>\n",
       "      <td>polo</td>\n",
       "      <td>solid</td>\n",
       "      <td>solid</td>\n",
       "      <td>short sleeves</td>\n",
       "      <td>/kaggle/input/visual-taxonomy/train_images/000...</td>\n",
       "    </tr>\n",
       "    <tr>\n",
       "      <th>3</th>\n",
       "      <td>3</td>\n",
       "      <td>Men Tshirts</td>\n",
       "      <td>5</td>\n",
       "      <td>multicolor</td>\n",
       "      <td>polo</td>\n",
       "      <td>solid</td>\n",
       "      <td>solid</td>\n",
       "      <td>short sleeves</td>\n",
       "      <td>/kaggle/input/visual-taxonomy/train_images/000...</td>\n",
       "    </tr>\n",
       "    <tr>\n",
       "      <th>4</th>\n",
       "      <td>4</td>\n",
       "      <td>Men Tshirts</td>\n",
       "      <td>5</td>\n",
       "      <td>multicolor</td>\n",
       "      <td>polo</td>\n",
       "      <td>solid</td>\n",
       "      <td>solid</td>\n",
       "      <td>short sleeves</td>\n",
       "      <td>/kaggle/input/visual-taxonomy/train_images/000...</td>\n",
       "    </tr>\n",
       "  </tbody>\n",
       "</table>\n",
       "</div>"
      ],
      "text/plain": [
       "   id     Category  len      attr_1 attr_2   attr_3   attr_4         attr_5  \\\n",
       "0   0  Men Tshirts    5     default  round  printed  default  short sleeves   \n",
       "1   1  Men Tshirts    5  multicolor   polo    solid    solid  short sleeves   \n",
       "2   2  Men Tshirts    5     default   polo    solid    solid  short sleeves   \n",
       "3   3  Men Tshirts    5  multicolor   polo    solid    solid  short sleeves   \n",
       "4   4  Men Tshirts    5  multicolor   polo    solid    solid  short sleeves   \n",
       "\n",
       "                                          image_path  \n",
       "0  /kaggle/input/visual-taxonomy/train_images/000...  \n",
       "1  /kaggle/input/visual-taxonomy/train_images/000...  \n",
       "2  /kaggle/input/visual-taxonomy/train_images/000...  \n",
       "3  /kaggle/input/visual-taxonomy/train_images/000...  \n",
       "4  /kaggle/input/visual-taxonomy/train_images/000...  "
      ]
     },
     "execution_count": 62,
     "metadata": {},
     "output_type": "execute_result"
    }
   ],
   "source": [
    "df.head()"
   ]
  },
  {
   "cell_type": "code",
   "execution_count": 63,
   "metadata": {
    "execution": {
     "iopub.execute_input": "2024-12-04T11:54:57.246669Z",
     "iopub.status.busy": "2024-12-04T11:54:57.246443Z",
     "iopub.status.idle": "2024-12-04T11:54:57.260423Z",
     "shell.execute_reply": "2024-12-04T11:54:57.259546Z",
     "shell.execute_reply.started": "2024-12-04T11:54:57.246647Z"
    },
    "trusted": true
   },
   "outputs": [
    {
     "data": {
      "text/plain": [
       "id               0\n",
       "Category         0\n",
       "len              0\n",
       "attr_1        1257\n",
       "attr_2        1123\n",
       "attr_3        1476\n",
       "attr_4        1318\n",
       "attr_5        1290\n",
       "image_path       0\n",
       "dtype: int64"
      ]
     },
     "execution_count": 63,
     "metadata": {},
     "output_type": "execute_result"
    }
   ],
   "source": [
    "df.isna().sum()"
   ]
  },
  {
   "cell_type": "code",
   "execution_count": null,
   "metadata": {
    "execution": {
     "iopub.execute_input": "2024-12-04T11:54:57.262542Z",
     "iopub.status.busy": "2024-12-04T11:54:57.262307Z",
     "iopub.status.idle": "2024-12-04T11:54:57.273796Z",
     "shell.execute_reply": "2024-12-04T11:54:57.273097Z",
     "shell.execute_reply.started": "2024-12-04T11:54:57.262519Z"
    },
    "trusted": true
   },
   "outputs": [],
   "source": [
    "labelcolumns = []\n",
    "for i in df.columns:\n",
    "    if i.startswith('attr'): labelcolumns.append(i)"
   ]
  },
  {
   "cell_type": "code",
   "execution_count": 65,
   "metadata": {
    "execution": {
     "iopub.execute_input": "2024-12-04T11:54:57.274806Z",
     "iopub.status.busy": "2024-12-04T11:54:57.274599Z",
     "iopub.status.idle": "2024-12-04T11:54:57.296926Z",
     "shell.execute_reply": "2024-12-04T11:54:57.296116Z",
     "shell.execute_reply.started": "2024-12-04T11:54:57.274785Z"
    },
    "trusted": true
   },
   "outputs": [],
   "source": [
    "data_augmentation = tf.keras.Sequential([\n",
    "    layers.RandomFlip(\"horizontal\"),\n",
    "    layers.RandomRotation(0.1),\n",
    "    layers.RandomZoom(0.1),\n",
    "    layers.RandomBrightness(0.1),\n",
    "])"
   ]
  },
  {
   "cell_type": "code",
   "execution_count": 66,
   "metadata": {
    "execution": {
     "iopub.execute_input": "2024-12-04T11:54:57.298039Z",
     "iopub.status.busy": "2024-12-04T11:54:57.297796Z",
     "iopub.status.idle": "2024-12-04T11:54:57.303898Z",
     "shell.execute_reply": "2024-12-04T11:54:57.303020Z",
     "shell.execute_reply.started": "2024-12-04T11:54:57.298015Z"
    },
    "trusted": true
   },
   "outputs": [],
   "source": [
    "def prepare_images(image_paths, image_size=(224, 224)):\n",
    "    \"\"\"\n",
    "    Converts image paths into augmented tensors using predefined data augmentation layers.\n",
    "    \n",
    "    Args:\n",
    "        image_paths (list of str): List of image paths.\n",
    "        image_size (tuple): Target size of images (height, width).\n",
    "    \n",
    "    Returns:\n",
    "        np.array: Array of preprocessed and augmented image tensors.\n",
    "    \"\"\"\n",
    "\n",
    "    images = []\n",
    "    \n",
    "    for path in image_paths:\n",
    "        try:\n",
    "            img = Image.open(path).convert(\"RGB\")\n",
    "            img = img.resize(image_size)  \n",
    "            img_array = np.array(img) / 255.0  \n",
    "            \n",
    "            # Add batch dimension and convert to tensor\n",
    "            img_tensor = tf.convert_to_tensor(img_array, dtype=tf.float32)\n",
    "            img_tensor = tf.expand_dims(img_tensor, axis=0)  \n",
    "            \n",
    "            # Apply data augmentation\n",
    "            augmented_img = data_augmentation(img_tensor)[0].numpy()  \n",
    "            images.append(augmented_img)\n",
    "\n",
    "        except Exception as e:\n",
    "            print(f\"Error loading image {path}: {e}\")\n",
    "    \n",
    "    return np.array(images)\n"
   ]
  },
  {
   "cell_type": "code",
   "execution_count": 67,
   "metadata": {
    "execution": {
     "iopub.execute_input": "2024-12-04T11:54:57.305341Z",
     "iopub.status.busy": "2024-12-04T11:54:57.305006Z",
     "iopub.status.idle": "2024-12-04T11:54:57.319375Z",
     "shell.execute_reply": "2024-12-04T11:54:57.318664Z",
     "shell.execute_reply.started": "2024-12-04T11:54:57.305306Z"
    },
    "trusted": true
   },
   "outputs": [],
   "source": [
    "def predict_labels(unique_labels, x_train, y_train, x_predict):\n",
    "    \"\"\"\n",
    "    Train a ResNet50-based classifier and predict labels.\n",
    "    \n",
    "    Args:\n",
    "        unique_labels (int): Number of unique labels in the dataset.\n",
    "        x_train (np.array): Preprocessed training images.\n",
    "        y_train (np.array): Labels for training images.\n",
    "        x_predict (np.array): Preprocessed images to predict.\n",
    "    \n",
    "    Returns:\n",
    "        list of dict: List of dictionaries with structure {'id': <id>, 'label': <label>}.\n",
    "    \"\"\"\n",
    "    # Convert labels to categorical\n",
    "    y_train_categorical = to_categorical(y_train, num_classes=unique_labels)\n",
    "    \n",
    "    # Load ResNet50 with pretrained weights\n",
    "    base_model = ResNet50(weights='/kaggle/input/resnet50/resnet50_weights_tf_dim_ordering_tf_kernels_notop.h5', include_top=False, input_shape=(224, 224, 3))\n",
    "    base_model.trainable = False  # Freeze the base model\n",
    "    \n",
    "    # Build a simple classification model\n",
    "    model = Sequential([\n",
    "        base_model,\n",
    "        GlobalAveragePooling2D(),\n",
    "        Dense(256, activation='relu'),\n",
    "        Dense(unique_labels, activation='softmax')\n",
    "    ])\n",
    "    \n",
    "    model.compile(optimizer='adam', loss='categorical_crossentropy', metrics=['accuracy'])\n",
    "    \n",
    "    # Train the model\n",
    "    model.fit(x_train, y_train_categorical, epochs=4, batch_size=32, verbose=1)\n",
    "    \n",
    "    # Predict labels for x_predict\n",
    "    predictions = model.predict(x_predict)\n",
    "    y_predict = np.argmax(predictions, axis=1)\n",
    "    \n",
    "    return y_predict\n"
   ]
  },
  {
   "cell_type": "code",
   "execution_count": null,
   "metadata": {
    "execution": {
     "iopub.execute_input": "2024-12-04T11:54:57.320728Z",
     "iopub.status.busy": "2024-12-04T11:54:57.320415Z",
     "iopub.status.idle": "2024-12-04T12:19:00.351834Z",
     "shell.execute_reply": "2024-12-04T12:19:00.350917Z",
     "shell.execute_reply.started": "2024-12-04T11:54:57.320694Z"
    },
    "trusted": true
   },
   "outputs": [
    {
     "name": "stdout",
     "output_type": "stream",
     "text": [
      "Epoch 1/4\n",
      "\u001b[1m188/188\u001b[0m \u001b[32m━━━━━━━━━━━━━━━━━━━━\u001b[0m\u001b[37m\u001b[0m \u001b[1m26s\u001b[0m 99ms/step - accuracy: 0.3364 - loss: 1.3621\n",
      "Epoch 2/4\n",
      "\u001b[1m188/188\u001b[0m \u001b[32m━━━━━━━━━━━━━━━━━━━━\u001b[0m\u001b[37m\u001b[0m \u001b[1m18s\u001b[0m 94ms/step - accuracy: 0.3899 - loss: 1.2948\n",
      "Epoch 3/4\n",
      "\u001b[1m188/188\u001b[0m \u001b[32m━━━━━━━━━━━━━━━━━━━━\u001b[0m\u001b[37m\u001b[0m \u001b[1m19s\u001b[0m 101ms/step - accuracy: 0.3845 - loss: 1.2791\n",
      "Epoch 4/4\n",
      "\u001b[1m188/188\u001b[0m \u001b[32m━━━━━━━━━━━━━━━━━━━━\u001b[0m\u001b[37m\u001b[0m \u001b[1m19s\u001b[0m 100ms/step - accuracy: 0.3972 - loss: 1.2658\n",
      "\u001b[1m40/40\u001b[0m \u001b[32m━━━━━━━━━━━━━━━━━━━━\u001b[0m\u001b[37m\u001b[0m \u001b[1m9s\u001b[0m 156ms/step\n",
      "Epoch 1/4\n",
      "\u001b[1m192/192\u001b[0m \u001b[32m━━━━━━━━━━━━━━━━━━━━\u001b[0m\u001b[37m\u001b[0m \u001b[1m25s\u001b[0m 90ms/step - accuracy: 0.5866 - loss: 0.6946\n",
      "Epoch 2/4\n",
      "\u001b[1m192/192\u001b[0m \u001b[32m━━━━━━━━━━━━━━━━━━━━\u001b[0m\u001b[37m\u001b[0m \u001b[1m18s\u001b[0m 95ms/step - accuracy: 0.6990 - loss: 0.5279\n",
      "Epoch 3/4\n",
      "\u001b[1m192/192\u001b[0m \u001b[32m━━━━━━━━━━━━━━━━━━━━\u001b[0m\u001b[37m\u001b[0m \u001b[1m19s\u001b[0m 101ms/step - accuracy: 0.7095 - loss: 0.4955\n",
      "Epoch 4/4\n",
      "\u001b[1m192/192\u001b[0m \u001b[32m━━━━━━━━━━━━━━━━━━━━\u001b[0m\u001b[37m\u001b[0m \u001b[1m19s\u001b[0m 98ms/step - accuracy: 0.7022 - loss: 0.4818\n",
      "\u001b[1m36/36\u001b[0m \u001b[32m━━━━━━━━━━━━━━━━━━━━\u001b[0m\u001b[37m\u001b[0m \u001b[1m8s\u001b[0m 162ms/step\n",
      "Epoch 1/4\n",
      "\u001b[1m181/181\u001b[0m \u001b[32m━━━━━━━━━━━━━━━━━━━━\u001b[0m\u001b[37m\u001b[0m \u001b[1m26s\u001b[0m 99ms/step - accuracy: 0.5808 - loss: 0.6921\n",
      "Epoch 2/4\n",
      "\u001b[1m181/181\u001b[0m \u001b[32m━━━━━━━━━━━━━━━━━━━━\u001b[0m\u001b[37m\u001b[0m \u001b[1m17s\u001b[0m 94ms/step - accuracy: 0.6887 - loss: 0.5443\n",
      "Epoch 3/4\n",
      "\u001b[1m181/181\u001b[0m \u001b[32m━━━━━━━━━━━━━━━━━━━━\u001b[0m\u001b[37m\u001b[0m \u001b[1m18s\u001b[0m 101ms/step - accuracy: 0.7011 - loss: 0.5102\n",
      "Epoch 4/4\n",
      "\u001b[1m181/181\u001b[0m \u001b[32m━━━━━━━━━━━━━━━━━━━━\u001b[0m\u001b[37m\u001b[0m \u001b[1m18s\u001b[0m 99ms/step - accuracy: 0.7103 - loss: 0.4859\n",
      "\u001b[1m47/47\u001b[0m \u001b[32m━━━━━━━━━━━━━━━━━━━━\u001b[0m\u001b[37m\u001b[0m \u001b[1m9s\u001b[0m 145ms/step\n",
      "Epoch 1/4\n",
      "\u001b[1m186/186\u001b[0m \u001b[32m━━━━━━━━━━━━━━━━━━━━\u001b[0m\u001b[37m\u001b[0m \u001b[1m27s\u001b[0m 99ms/step - accuracy: 0.5247 - loss: 0.9844\n",
      "Epoch 2/4\n",
      "\u001b[1m186/186\u001b[0m \u001b[32m━━━━━━━━━━━━━━━━━━━━\u001b[0m\u001b[37m\u001b[0m \u001b[1m18s\u001b[0m 94ms/step - accuracy: 0.6084 - loss: 0.8145\n",
      "Epoch 3/4\n",
      "\u001b[1m186/186\u001b[0m \u001b[32m━━━━━━━━━━━━━━━━━━━━\u001b[0m\u001b[37m\u001b[0m \u001b[1m19s\u001b[0m 101ms/step - accuracy: 0.5991 - loss: 0.8223\n",
      "Epoch 4/4\n",
      "\u001b[1m186/186\u001b[0m \u001b[32m━━━━━━━━━━━━━━━━━━━━\u001b[0m\u001b[37m\u001b[0m \u001b[1m18s\u001b[0m 98ms/step - accuracy: 0.6457 - loss: 0.7605\n",
      "\u001b[1m42/42\u001b[0m \u001b[32m━━━━━━━━━━━━━━━━━━━━\u001b[0m\u001b[37m\u001b[0m \u001b[1m9s\u001b[0m 150ms/step\n",
      "Epoch 1/4\n",
      "\u001b[1m187/187\u001b[0m \u001b[32m━━━━━━━━━━━━━━━━━━━━\u001b[0m\u001b[37m\u001b[0m \u001b[1m26s\u001b[0m 98ms/step - accuracy: 0.9173 - loss: 0.3048\n",
      "Epoch 2/4\n",
      "\u001b[1m187/187\u001b[0m \u001b[32m━━━━━━━━━━━━━━━━━━━━\u001b[0m\u001b[37m\u001b[0m \u001b[1m18s\u001b[0m 94ms/step - accuracy: 0.9480 - loss: 0.2058\n",
      "Epoch 3/4\n",
      "\u001b[1m187/187\u001b[0m \u001b[32m━━━━━━━━━━━━━━━━━━━━\u001b[0m\u001b[37m\u001b[0m \u001b[1m19s\u001b[0m 100ms/step - accuracy: 0.9478 - loss: 0.1989\n",
      "Epoch 4/4\n",
      "\u001b[1m187/187\u001b[0m \u001b[32m━━━━━━━━━━━━━━━━━━━━\u001b[0m\u001b[37m\u001b[0m \u001b[1m19s\u001b[0m 99ms/step - accuracy: 0.9449 - loss: 0.2140\n",
      "\u001b[1m41/41\u001b[0m \u001b[32m━━━━━━━━━━━━━━━━━━━━\u001b[0m\u001b[37m\u001b[0m \u001b[1m9s\u001b[0m 152ms/step\n"
     ]
    }
   ],
   "source": [
    "for i in labelcolumns:\n",
    "    predict_df = df[df[i].isna()][['id' , 'image_path']]\n",
    "    train_df = df[~df[i].isna()][['id' , 'image_path' , i]]\n",
    "    unique_val = len(train_df[i].unique())\n",
    "\n",
    "    le = LabelEncoder()\n",
    "\n",
    "    train_df[i] = le.fit_transform(train_df[i])\n",
    "\n",
    "    class_to_label = dict(zip(le.classes_, range(len(le.classes_))))\n",
    "    label_to_class = {v:k  for k, v in class_to_label.items()}\n",
    "\n",
    "    y_train = train_df[i]\n",
    "\n",
    "    x_train = prepare_images(train_df['image_path'])\n",
    "    x_predict = prepare_images(predict_df['image_path'])\n",
    "\n",
    "    # Step 2: Predict labels\n",
    "    y_predict = predict_labels(\n",
    "        unique_val,\n",
    "        x_train,\n",
    "        y_train,\n",
    "        x_predict\n",
    "    )\n",
    "    \n",
    "    # Step 3: Prepare final result\n",
    "    predict_df['label'] = [label_to_class[label] for label in y_predict]\n",
    "    result = predict_df[['id', 'label']]\n",
    "\n",
    "    result.to_csv(f'/kaggle/working/{category}_{i}.csv', index=False)\n"
   ]
  },
  {
   "cell_type": "code",
   "execution_count": 69,
   "metadata": {
    "execution": {
     "iopub.execute_input": "2024-12-04T12:19:00.353232Z",
     "iopub.status.busy": "2024-12-04T12:19:00.352930Z",
     "iopub.status.idle": "2024-12-04T12:19:00.357754Z",
     "shell.execute_reply": "2024-12-04T12:19:00.356962Z",
     "shell.execute_reply.started": "2024-12-04T12:19:00.353205Z"
    },
    "trusted": true
   },
   "outputs": [
    {
     "name": "stdout",
     "output_type": "stream",
     "text": [
      "done\n"
     ]
    }
   ],
   "source": [
    "print('done')"
   ]
  },
  {
   "cell_type": "code",
   "execution_count": null,
   "metadata": {
    "trusted": true
   },
   "outputs": [],
   "source": []
  },
  {
   "cell_type": "code",
   "execution_count": null,
   "metadata": {
    "trusted": true
   },
   "outputs": [],
   "source": []
  },
  {
   "cell_type": "code",
   "execution_count": null,
   "metadata": {
    "trusted": true
   },
   "outputs": [],
   "source": []
  },
  {
   "cell_type": "code",
   "execution_count": null,
   "metadata": {
    "trusted": true
   },
   "outputs": [],
   "source": []
  },
  {
   "cell_type": "code",
   "execution_count": null,
   "metadata": {
    "trusted": true
   },
   "outputs": [],
   "source": []
  }
 ],
 "metadata": {
  "kaggle": {
   "accelerator": "nvidiaTeslaT4",
   "dataSources": [
    {
     "databundleVersionId": 9755748,
     "sourceId": 84705,
     "sourceType": "competition"
    },
    {
     "datasetId": 6227907,
     "sourceId": 10098179,
     "sourceType": "datasetVersion"
    },
    {
     "datasetId": 6228132,
     "sourceId": 10098461,
     "sourceType": "datasetVersion"
    }
   ],
   "dockerImageVersionId": 30788,
   "isGpuEnabled": true,
   "isInternetEnabled": false,
   "language": "python",
   "sourceType": "notebook"
  },
  "kernelspec": {
   "display_name": "Python 3",
   "language": "python",
   "name": "python3"
  },
  "language_info": {
   "codemirror_mode": {
    "name": "ipython",
    "version": 3
   },
   "file_extension": ".py",
   "mimetype": "text/x-python",
   "name": "python",
   "nbconvert_exporter": "python",
   "pygments_lexer": "ipython3",
   "version": "3.10.14"
  }
 },
 "nbformat": 4,
 "nbformat_minor": 4
}
