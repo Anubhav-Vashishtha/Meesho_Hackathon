{
 "cells": [
  {
   "cell_type": "code",
   "execution_count": 1,
   "metadata": {
    "execution": {
     "iopub.execute_input": "2024-12-04T11:54:56.977466Z",
     "iopub.status.busy": "2024-12-04T11:54:56.976539Z",
     "iopub.status.idle": "2024-12-04T11:54:56.982038Z",
     "shell.execute_reply": "2024-12-04T11:54:56.981183Z",
     "shell.execute_reply.started": "2024-12-04T11:54:56.977429Z"
    },
    "trusted": true
   },
   "outputs": [],
   "source": [
    "import pandas as pd\n",
    "import numpy as np\n",
    "\n",
    "from sklearn.preprocessing import LabelEncoder\n",
    "\n",
    "import tensorflow as tf\n",
    "from tensorflow.keras import layers\n",
    "from tensorflow.keras.applications import ResNet50\n",
    "from tensorflow.keras.models import Sequential\n",
    "from tensorflow.keras.layers import Dense, Flatten, GlobalAveragePooling2D\n",
    "from tensorflow.keras.utils import to_categorical\n",
    "\n",
    "from PIL import Image"
   ]
  },
  {
   "cell_type": "code",
   "execution_count": null,
   "metadata": {
    "execution": {
     "iopub.execute_input": "2024-12-04T11:54:56.984378Z",
     "iopub.status.busy": "2024-12-04T11:54:56.983609Z",
     "iopub.status.idle": "2024-12-04T11:54:57.142450Z",
     "shell.execute_reply": "2024-12-04T11:54:57.141692Z",
     "shell.execute_reply.started": "2024-12-04T11:54:56.984350Z"
    },
    "trusted": true
   },
   "outputs": [],
   "source": [
    "train = pd.read_csv('./train.csv')"
   ]
  },
  {
   "cell_type": "code",
   "execution_count": null,
   "metadata": {},
   "outputs": [
    {
     "data": {
      "text/plain": [
       "array(['Men Tshirts', 'Sarees', 'Kurtis', 'Women Tshirts',\n",
       "       'Women Tops & Tunics'], dtype=object)"
      ]
     },
     "execution_count": 5,
     "metadata": {},
     "output_type": "execute_result"
    }
   ],
   "source": [
    "train['Category'].unique()"
   ]
  },
  {
   "cell_type": "code",
   "execution_count": 5,
   "metadata": {},
   "outputs": [],
   "source": [
    "# Sarees , Women Tshirts , Women Tops & Tunics\n",
    "category = ['Sarees']"
   ]
  },
  {
   "cell_type": "code",
   "execution_count": null,
   "metadata": {
    "execution": {
     "iopub.execute_input": "2024-12-04T11:54:57.158632Z",
     "iopub.status.busy": "2024-12-04T11:54:57.158383Z",
     "iopub.status.idle": "2024-12-04T11:54:57.203760Z",
     "shell.execute_reply": "2024-12-04T11:54:57.203180Z",
     "shell.execute_reply.started": "2024-12-04T11:54:57.158608Z"
    },
    "trusted": true
   },
   "outputs": [],
   "source": [
    "# For Kaggle\n",
    "\n",
    "train['image_path'] = train.apply(lambda x: './Data/train_images/' + x['image_path'].split('/')[-1], axis=1)"
   ]
  },
  {
   "cell_type": "code",
   "execution_count": 7,
   "metadata": {
    "execution": {
     "iopub.execute_input": "2024-12-04T11:54:57.274806Z",
     "iopub.status.busy": "2024-12-04T11:54:57.274599Z",
     "iopub.status.idle": "2024-12-04T11:54:57.296926Z",
     "shell.execute_reply": "2024-12-04T11:54:57.296116Z",
     "shell.execute_reply.started": "2024-12-04T11:54:57.274785Z"
    },
    "trusted": true
   },
   "outputs": [],
   "source": [
    "data_augmentation = tf.keras.Sequential([\n",
    "    layers.RandomFlip(\"horizontal\"),\n",
    "    layers.RandomRotation(0.1),\n",
    "    layers.RandomZoom(0.1),\n",
    "    layers.RandomBrightness(0.1),\n",
    "])"
   ]
  },
  {
   "cell_type": "code",
   "execution_count": 8,
   "metadata": {
    "execution": {
     "iopub.execute_input": "2024-12-04T11:54:57.298039Z",
     "iopub.status.busy": "2024-12-04T11:54:57.297796Z",
     "iopub.status.idle": "2024-12-04T11:54:57.303898Z",
     "shell.execute_reply": "2024-12-04T11:54:57.303020Z",
     "shell.execute_reply.started": "2024-12-04T11:54:57.298015Z"
    },
    "trusted": true
   },
   "outputs": [],
   "source": [
    "def prepare_images(image_paths, image_size=(224, 224)):\n",
    "    \"\"\"\n",
    "    Converts image paths into augmented tensors using predefined data augmentation layers.\n",
    "    \n",
    "    Args:\n",
    "        image_paths (list of str): List of image paths.\n",
    "        image_size (tuple): Target size of images (height, width).\n",
    "    \n",
    "    Returns:\n",
    "        np.array: Array of preprocessed and augmented image tensors.\n",
    "    \"\"\"\n",
    "\n",
    "    images = []\n",
    "    \n",
    "    for path in image_paths:\n",
    "        try:\n",
    "            img = Image.open(path).convert(\"RGB\")\n",
    "            img = img.resize(image_size)  \n",
    "            img_array = np.array(img) / 255.0  \n",
    "            \n",
    "            # Add batch dimension and convert to tensor\n",
    "            img_tensor = tf.convert_to_tensor(img_array, dtype=tf.float32)\n",
    "            img_tensor = tf.expand_dims(img_tensor, axis=0)  \n",
    "            \n",
    "            # Apply data augmentation\n",
    "            augmented_img = data_augmentation(img_tensor)[0].numpy()  \n",
    "            images.append(augmented_img)\n",
    "\n",
    "        except Exception as e:\n",
    "            print(f\"Error loading image {path}: {e}\")\n",
    "    \n",
    "    return np.array(images)\n"
   ]
  },
  {
   "cell_type": "code",
   "execution_count": null,
   "metadata": {
    "execution": {
     "iopub.execute_input": "2024-12-04T11:54:57.305341Z",
     "iopub.status.busy": "2024-12-04T11:54:57.305006Z",
     "iopub.status.idle": "2024-12-04T11:54:57.319375Z",
     "shell.execute_reply": "2024-12-04T11:54:57.318664Z",
     "shell.execute_reply.started": "2024-12-04T11:54:57.305306Z"
    },
    "trusted": true
   },
   "outputs": [],
   "source": [
    "def predict_labels(unique_labels, x_train, y_train, x_predict):\n",
    "    \"\"\"\n",
    "    Train a ResNet50-based classifier and predict labels.\n",
    "    \n",
    "    Args:\n",
    "        unique_labels (int): Number of unique labels in the dataset.\n",
    "        x_train (np.array): Preprocessed training images.\n",
    "        y_train (np.array): Labels for training images.\n",
    "        x_predict (np.array): Preprocessed images to predict.\n",
    "    \n",
    "    Returns:\n",
    "        list of dict: List of dictionaries with structure {'id': <id>, 'label': <label>}.\n",
    "    \"\"\"\n",
    "    # Convert labels to categorical\n",
    "    y_train_categorical = to_categorical(y_train, num_classes=unique_labels)\n",
    "    \n",
    "    # Load ResNet50 with pretrained weights\n",
    "    base_model = ResNet50(weights='./resnet50_weights_tf_dim_ordering_tf_kernels_notop.h5', include_top=False, input_shape=(224, 224, 3))\n",
    "    base_model.trainable = False  # Freeze the base model\n",
    "    \n",
    "    # Build a simple classification model\n",
    "    model = Sequential([\n",
    "        base_model,\n",
    "        GlobalAveragePooling2D(),\n",
    "        Dense(256, activation='relu'),\n",
    "        Dense(unique_labels, activation='softmax')\n",
    "    ])\n",
    "    \n",
    "    model.compile(optimizer='adam', loss='categorical_crossentropy', metrics=['accuracy'])\n",
    "    \n",
    "    # Train the model\n",
    "    model.fit(x_train, y_train_categorical, epochs=4, batch_size=32, verbose=1)\n",
    "    \n",
    "    # Predict labels for x_predict\n",
    "    predictions = model.predict(x_predict)\n",
    "    y_predict = np.argmax(predictions, axis=1)\n",
    "    \n",
    "    return y_predict\n"
   ]
  },
  {
   "cell_type": "code",
   "execution_count": null,
   "metadata": {
    "execution": {
     "iopub.execute_input": "2024-12-04T11:54:57.320728Z",
     "iopub.status.busy": "2024-12-04T11:54:57.320415Z",
     "iopub.status.idle": "2024-12-04T12:19:00.351834Z",
     "shell.execute_reply": "2024-12-04T12:19:00.350917Z",
     "shell.execute_reply.started": "2024-12-04T11:54:57.320694Z"
    },
    "trusted": true
   },
   "outputs": [
    {
     "name": "stdout",
     "output_type": "stream",
     "text": [
      "['attr_1', 'attr_2', 'attr_3', 'attr_4', 'attr_5', 'attr_6', 'attr_7', 'attr_8', 'attr_9', 'attr_10']\n"
     ]
    },
    {
     "name": "stderr",
     "output_type": "stream",
     "text": [
      "C:\\Users\\Anubhav Vashishtha\\AppData\\Local\\Temp\\ipykernel_13972\\470146512.py:4: SettingWithCopyWarning: \n",
      "A value is trying to be set on a copy of a slice from a DataFrame\n",
      "\n",
      "See the caveats in the documentation: https://pandas.pydata.org/pandas-docs/stable/user_guide/indexing.html#returning-a-view-versus-a-copy\n",
      "  df.dropna(axis=1, how='all' , inplace=True)\n"
     ]
    }
   ],
   "source": [
    "for cat in category:\n",
    "    df = train[train['Category'] == cat]\n",
    "    \n",
    "    df.dropna(axis=1, how='all' , inplace=True)\n",
    "\n",
    "    labelcolumns = [ 'attr_8', 'attr_9', 'attr_10']\n",
    "    # for col in df.columns: \n",
    "    #     if col.startswith('attr'): labelcolumns.append(col) \n",
    "\n",
    "    for i in labelcolumns:\n",
    "        predict_df = df[df[i].isna()][['id' , 'image_path']]\n",
    "        train_df = df[~df[i].isna()][['id' , 'image_path' , i]]\n",
    "        unique_val = len(train_df[i].unique())\n",
    "\n",
    "        le = LabelEncoder()\n",
    "\n",
    "        train_df[i] = le.fit_transform(train_df[i])\n",
    "\n",
    "        class_to_label = dict(zip(le.classes_, range(len(le.classes_))))\n",
    "        label_to_class = {v:k  for k, v in class_to_label.items()}\n",
    "\n",
    "        y_train = train_df[i]\n",
    "\n",
    "        x_train = prepare_images(train_df['image_path'])\n",
    "        x_predict = prepare_images(predict_df['image_path'])\n",
    "\n",
    "        # Step 2: Predict labels\n",
    "        y_predict = predict_labels(\n",
    "            unique_val,\n",
    "            x_train,\n",
    "            y_train,\n",
    "            x_predict\n",
    "        )\n",
    "        \n",
    "        # Step 3: Prepare final result\n",
    "        predict_df['label'] = [label_to_class[label] for label in y_predict]\n",
    "        result = predict_df[['id', 'label']]\n",
    "\n",
    "        result.to_csv(f'./output/{cat}/{i}.csv', index=False)\n"
   ]
  },
  {
   "cell_type": "code",
   "execution_count": 69,
   "metadata": {
    "execution": {
     "iopub.execute_input": "2024-12-04T12:19:00.353232Z",
     "iopub.status.busy": "2024-12-04T12:19:00.352930Z",
     "iopub.status.idle": "2024-12-04T12:19:00.357754Z",
     "shell.execute_reply": "2024-12-04T12:19:00.356962Z",
     "shell.execute_reply.started": "2024-12-04T12:19:00.353205Z"
    },
    "trusted": true
   },
   "outputs": [
    {
     "name": "stdout",
     "output_type": "stream",
     "text": [
      "done\n"
     ]
    }
   ],
   "source": [
    "print('done')"
   ]
  }
 ],
 "metadata": {
  "kaggle": {
   "accelerator": "nvidiaTeslaT4",
   "dataSources": [
    {
     "databundleVersionId": 9755748,
     "sourceId": 84705,
     "sourceType": "competition"
    },
    {
     "datasetId": 6227907,
     "sourceId": 10098179,
     "sourceType": "datasetVersion"
    },
    {
     "datasetId": 6228132,
     "sourceId": 10098461,
     "sourceType": "datasetVersion"
    }
   ],
   "dockerImageVersionId": 30788,
   "isGpuEnabled": true,
   "isInternetEnabled": false,
   "language": "python",
   "sourceType": "notebook"
  },
  "kernelspec": {
   "display_name": "Python 3",
   "language": "python",
   "name": "python3"
  },
  "language_info": {
   "codemirror_mode": {
    "name": "ipython",
    "version": 3
   },
   "file_extension": ".py",
   "mimetype": "text/x-python",
   "name": "python",
   "nbconvert_exporter": "python",
   "pygments_lexer": "ipython3",
   "version": "3.11.5"
  }
 },
 "nbformat": 4,
 "nbformat_minor": 4
}
