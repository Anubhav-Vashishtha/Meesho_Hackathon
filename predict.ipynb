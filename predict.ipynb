{
 "cells": [
  {
   "cell_type": "code",
   "execution_count": 8,
   "metadata": {},
   "outputs": [],
   "source": [
    "import pandas as pd\n",
    "import os"
   ]
  },
  {
   "cell_type": "code",
   "execution_count": 5,
   "metadata": {},
   "outputs": [],
   "source": [
    "train = pd.read_csv('./train.csv')\n",
    "test = pd.read_csv('./test.csv')"
   ]
  },
  {
   "cell_type": "code",
   "execution_count": 6,
   "metadata": {},
   "outputs": [],
   "source": [
    "categories = train['Category'].unique()"
   ]
  },
  {
   "cell_type": "code",
   "execution_count": null,
   "metadata": {},
   "outputs": [],
   "source": [
    "for category in categories:\n",
    "    # Path to the prediction file in each category\n",
    "    prediction_file = f'./Train/{category}/prediction.csv'\n",
    "    \n",
    "    # Check if the prediction file exists\n",
    "    if os.path.exists(prediction_file):\n",
    "        # Read the prediction.csv into a DataFrame\n",
    "        prediction_df = pd.read_csv(prediction_file)\n",
    "        \n",
    "        # Filter the prediction dataframe for the specific category (in case multiple categories are present in one prediction file)\n",
    "        prediction_df = prediction_df[prediction_df['id'].isin(test['id'])]\n",
    "\n",
    "        # Add the features (e.g., attr_1, attr_2, ..., attr_10) to the test dataframe based on matching 'id'\n",
    "        for i in range(1, 11):  # Loop over attr_1 to attr_10\n",
    "            attr_column = f'attr_{i}'\n",
    "            test[attr_column] = test['id'].map(\n",
    "                dict(zip(prediction_df['id'], prediction_df[attr_column]))\n",
    "            )\n",
    "\n",
    "# Save the updated test dataframe to a CSV file\n",
    "test = test.drop(columns=['image_path'])\n",
    "test.to_csv('submission.csv', index=False)"
   ]
  },
  {
   "cell_type": "code",
   "execution_count": null,
   "metadata": {},
   "outputs": [],
   "source": []
  }
 ],
 "metadata": {
  "kernelspec": {
   "display_name": "Python 3",
   "language": "python",
   "name": "python3"
  },
  "language_info": {
   "codemirror_mode": {
    "name": "ipython",
    "version": 3
   },
   "file_extension": ".py",
   "mimetype": "text/x-python",
   "name": "python",
   "nbconvert_exporter": "python",
   "pygments_lexer": "ipython3",
   "version": "3.12.8"
  }
 },
 "nbformat": 4,
 "nbformat_minor": 2
}
