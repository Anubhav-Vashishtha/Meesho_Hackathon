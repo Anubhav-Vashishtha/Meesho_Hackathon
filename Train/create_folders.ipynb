{
 "cells": [
  {
   "cell_type": "code",
   "execution_count": 1,
   "metadata": {},
   "outputs": [],
   "source": [
    "import pandas as pd\n",
    "import os"
   ]
  },
  {
   "cell_type": "code",
   "execution_count": 2,
   "metadata": {},
   "outputs": [],
   "source": [
    "train = pd.read_csv('./../train_without_na.csv')"
   ]
  },
  {
   "cell_type": "code",
   "execution_count": 3,
   "metadata": {},
   "outputs": [
    {
     "data": {
      "text/plain": [
       "array(['Men Tshirts', 'Sarees', 'Kurtis', 'Women Tshirts',\n",
       "       'Women Tops & Tunics'], dtype=object)"
      ]
     },
     "execution_count": 3,
     "metadata": {},
     "output_type": "execute_result"
    }
   ],
   "source": [
    "folders = train['Category'].unique()\n",
    "folders"
   ]
  },
  {
   "cell_type": "code",
   "execution_count": 4,
   "metadata": {},
   "outputs": [],
   "source": [
    "Men_Tshirts = train[train['Category'] == 'Men Tshirts']\n",
    "Sarees = train[train['Category'] == 'Sarees']\n",
    "Kurtis = train[train['Category'] == 'Kurtis']\n",
    "Women_Tshirts = train[train['Category'] == 'Women Tshirts']\n",
    "Women_Tops_Tunics = train[train['Category'] == 'Women Tops & Tunics']"
   ]
  },
  {
   "cell_type": "code",
   "execution_count": 5,
   "metadata": {},
   "outputs": [
    {
     "name": "stdout",
     "output_type": "stream",
     "text": [
      "Created folder: Men_Tshirts\n",
      "Saved CSV to: Men_Tshirts\\data.csv\n",
      "Created folder: Sarees\n",
      "Saved CSV to: Sarees\\data.csv\n",
      "Created folder: Kurtis\n",
      "Saved CSV to: Kurtis\\data.csv\n",
      "Created folder: Women_Tshirts\n",
      "Saved CSV to: Women_Tshirts\\data.csv\n",
      "Created folder: Women_Tops_Tunics\n",
      "Saved CSV to: Women_Tops_Tunics\\data.csv\n"
     ]
    }
   ],
   "source": [
    "folder_dataframe_map = {\n",
    "    \"Men_Tshirts\": Men_Tshirts,\n",
    "    \"Sarees\": Sarees,\n",
    "    \"Kurtis\": Kurtis,\n",
    "    \"Women_Tshirts\": Women_Tshirts,\n",
    "    \"Women_Tops_Tunics\": Women_Tops_Tunics\n",
    "}\n",
    "\n",
    "# Save each DataFrame as a CSV file in its respective folder\n",
    "for folder, dataframe in folder_dataframe_map.items():\n",
    "    # Create the folder if it doesn't exist\n",
    "    os.makedirs(folder, exist_ok=True)\n",
    "    print(f\"Created folder: {folder}\")\n",
    "    \n",
    "    # Define the path for the CSV file\n",
    "    csv_file_path = os.path.join(folder, \"data.csv\")\n",
    "    \n",
    "    # Save the DataFrame as a CSV file\n",
    "    dataframe.to_csv(csv_file_path, index=False)\n",
    "    print(f\"Saved CSV to: {csv_file_path}\")\n"
   ]
  },
  {
   "cell_type": "code",
   "execution_count": null,
   "metadata": {},
   "outputs": [],
   "source": []
  }
 ],
 "metadata": {
  "kernelspec": {
   "display_name": "Python 3",
   "language": "python",
   "name": "python3"
  },
  "language_info": {
   "codemirror_mode": {
    "name": "ipython",
    "version": 3
   },
   "file_extension": ".py",
   "mimetype": "text/x-python",
   "name": "python",
   "nbconvert_exporter": "python",
   "pygments_lexer": "ipython3",
   "version": "3.12.8"
  }
 },
 "nbformat": 4,
 "nbformat_minor": 2
}
